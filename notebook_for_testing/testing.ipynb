{
 "cells": [
  {
   "cell_type": "code",
   "execution_count": null,
   "metadata": {},
   "outputs": [],
   "source": [
    "\n",
    "\n",
    "from plotly.offline import plot\n",
    "import plotly.graph_objs as go\n",
    "\n",
    "fig = go.Figure()\n",
    "scatter = go.Scatter(x=[0,1,2,3], y=[0,1,2,3],\n",
    "                     mode='lines', name='test',\n",
    "                     opacity=0.8, marker_color='green')\n",
    "fig.add_trace(scatter)\n",
    "plt_div = plot(fig, output_type='div')"
   ]
  },
  {
   "cell_type": "code",
   "execution_count": null,
   "metadata": {},
   "outputs": [],
   "source": [
    "from stockmanager import Ticker"
   ]
  },
  {
   "cell_type": "code",
   "execution_count": null,
   "metadata": {},
   "outputs": [],
   "source": [
    "aapl = Ticker('AAPL')\n",
    "aapl.get_price()"
   ]
  },
  {
   "cell_type": "code",
   "execution_count": null,
   "metadata": {},
   "outputs": [],
   "source": [
    "p =aapl.prices.Close.to_list()\n",
    "p = [float(format(i, '.2f')) for i in p]\n",
    "p"
   ]
  },
  {
   "cell_type": "code",
   "execution_count": null,
   "metadata": {},
   "outputs": [],
   "source": [
    "ts = aapl.prices.index.to_list()\n",
    "ts = [s.strftime(\"%Y-%m-%d, %H:%M:%S\") for s in ts]"
   ]
  },
  {
   "cell_type": "code",
   "execution_count": null,
   "metadata": {},
   "outputs": [],
   "source": [
    "ts"
   ]
  },
  {
   "cell_type": "code",
   "execution_count": 2,
   "metadata": {},
   "outputs": [],
   "source": [
    "from stockmanager import Portfolio\n",
    "\n",
    "mp = Portfolio()\n",
    "\n",
    "mp.add('AAPL', 2000)\n",
    "mp.add(\"MSFT\", 3000)\n",
    "mp.add('ZM', 500)\n",
    "\n"
   ]
  },
  {
   "cell_type": "code",
   "execution_count": 3,
   "metadata": {},
   "outputs": [
    {
     "data": {
      "text/html": [
       "<div>\n",
       "<style scoped>\n",
       "    .dataframe tbody tr th:only-of-type {\n",
       "        vertical-align: middle;\n",
       "    }\n",
       "\n",
       "    .dataframe tbody tr th {\n",
       "        vertical-align: top;\n",
       "    }\n",
       "\n",
       "    .dataframe thead th {\n",
       "        text-align: right;\n",
       "    }\n",
       "</style>\n",
       "<table border=\"1\" class=\"dataframe\">\n",
       "  <thead>\n",
       "    <tr style=\"text-align: right;\">\n",
       "      <th></th>\n",
       "      <th>Symbol</th>\n",
       "      <th>Name</th>\n",
       "      <th>Exchange</th>\n",
       "      <th>Holdings</th>\n",
       "      <th>Price at Registration</th>\n",
       "      <th>Currency</th>\n",
       "      <th>Date</th>\n",
       "    </tr>\n",
       "  </thead>\n",
       "  <tbody>\n",
       "    <tr>\n",
       "      <th>0</th>\n",
       "      <td>AAPL</td>\n",
       "      <td>Apple Inc.</td>\n",
       "      <td>NMS</td>\n",
       "      <td>2000</td>\n",
       "      <td>318.89</td>\n",
       "      <td>USD</td>\n",
       "      <td>26.05.2020 00:29</td>\n",
       "    </tr>\n",
       "    <tr>\n",
       "      <th>1</th>\n",
       "      <td>MSFT</td>\n",
       "      <td>Microsoft Corporation</td>\n",
       "      <td>NMS</td>\n",
       "      <td>3000</td>\n",
       "      <td>183.51</td>\n",
       "      <td>USD</td>\n",
       "      <td>26.05.2020 00:29</td>\n",
       "    </tr>\n",
       "    <tr>\n",
       "      <th>2</th>\n",
       "      <td>ZM</td>\n",
       "      <td>Zoom Video Communications, Inc.</td>\n",
       "      <td>NMS</td>\n",
       "      <td>500</td>\n",
       "      <td>171.06</td>\n",
       "      <td>USD</td>\n",
       "      <td>26.05.2020 00:29</td>\n",
       "    </tr>\n",
       "  </tbody>\n",
       "</table>\n",
       "</div>"
      ],
      "text/plain": [
       "  Symbol                             Name Exchange Holdings  \\\n",
       "0   AAPL                       Apple Inc.      NMS     2000   \n",
       "1   MSFT            Microsoft Corporation      NMS     3000   \n",
       "2     ZM  Zoom Video Communications, Inc.      NMS      500   \n",
       "\n",
       "   Price at Registration Currency              Date  \n",
       "0                 318.89      USD  26.05.2020 00:29  \n",
       "1                 183.51      USD  26.05.2020 00:29  \n",
       "2                 171.06      USD  26.05.2020 00:29  "
      ]
     },
     "execution_count": 3,
     "metadata": {},
     "output_type": "execute_result"
    }
   ],
   "source": [
    "mp.summary"
   ]
  },
  {
   "cell_type": "code",
   "execution_count": 4,
   "metadata": {},
   "outputs": [
    {
     "data": {
      "text/plain": [
       "<stockmanager.Portfolio.Portfolio at 0x7fb3f6090250>"
      ]
     },
     "execution_count": 4,
     "metadata": {},
     "output_type": "execute_result"
    }
   ],
   "source": [
    "mp.save()"
   ]
  },
  {
   "cell_type": "code",
   "execution_count": 8,
   "metadata": {},
   "outputs": [
    {
     "data": {
      "text/plain": [
       "<stockmanager.Portfolio.Portfolio at 0x7fb4240e24d0>"
      ]
     },
     "execution_count": 8,
     "metadata": {},
     "output_type": "execute_result"
    }
   ],
   "source": [
    "mp2 = Portfolio()\n",
    "mp2.load(summary_path=\"../dashboard/data/portfolio.csv\",\n",
    "        record_path=\"../dashboard/data/records.csv\")"
   ]
  },
  {
   "cell_type": "code",
   "execution_count": 9,
   "metadata": {},
   "outputs": [
    {
     "data": {
      "text/html": [
       "<div>\n",
       "<style scoped>\n",
       "    .dataframe tbody tr th:only-of-type {\n",
       "        vertical-align: middle;\n",
       "    }\n",
       "\n",
       "    .dataframe tbody tr th {\n",
       "        vertical-align: top;\n",
       "    }\n",
       "\n",
       "    .dataframe thead th {\n",
       "        text-align: right;\n",
       "    }\n",
       "</style>\n",
       "<table border=\"1\" class=\"dataframe\">\n",
       "  <thead>\n",
       "    <tr style=\"text-align: right;\">\n",
       "      <th></th>\n",
       "      <th>Symbol</th>\n",
       "      <th>Name</th>\n",
       "      <th>Exchange</th>\n",
       "      <th>Holdings</th>\n",
       "      <th>Price at Registration</th>\n",
       "      <th>Currency</th>\n",
       "      <th>Date</th>\n",
       "    </tr>\n",
       "  </thead>\n",
       "  <tbody>\n",
       "    <tr>\n",
       "      <th>0</th>\n",
       "      <td>AAPL</td>\n",
       "      <td>Apple Inc.</td>\n",
       "      <td>NMS</td>\n",
       "      <td>2000</td>\n",
       "      <td>318.89</td>\n",
       "      <td>USD</td>\n",
       "      <td>26.05.2020 00:29</td>\n",
       "    </tr>\n",
       "    <tr>\n",
       "      <th>1</th>\n",
       "      <td>MSFT</td>\n",
       "      <td>Microsoft Corporation</td>\n",
       "      <td>NMS</td>\n",
       "      <td>3000</td>\n",
       "      <td>183.51</td>\n",
       "      <td>USD</td>\n",
       "      <td>26.05.2020 00:29</td>\n",
       "    </tr>\n",
       "    <tr>\n",
       "      <th>2</th>\n",
       "      <td>ZM</td>\n",
       "      <td>Zoom Video Communications, Inc.</td>\n",
       "      <td>NMS</td>\n",
       "      <td>500</td>\n",
       "      <td>171.06</td>\n",
       "      <td>USD</td>\n",
       "      <td>26.05.2020 00:29</td>\n",
       "    </tr>\n",
       "  </tbody>\n",
       "</table>\n",
       "</div>"
      ],
      "text/plain": [
       "  Symbol                             Name Exchange  Holdings  \\\n",
       "0   AAPL                       Apple Inc.      NMS      2000   \n",
       "1   MSFT            Microsoft Corporation      NMS      3000   \n",
       "2     ZM  Zoom Video Communications, Inc.      NMS       500   \n",
       "\n",
       "   Price at Registration Currency              Date  \n",
       "0                 318.89      USD  26.05.2020 00:29  \n",
       "1                 183.51      USD  26.05.2020 00:29  \n",
       "2                 171.06      USD  26.05.2020 00:29  "
      ]
     },
     "execution_count": 9,
     "metadata": {},
     "output_type": "execute_result"
    }
   ],
   "source": [
    "mp2.summary"
   ]
  },
  {
   "cell_type": "code",
   "execution_count": null,
   "metadata": {},
   "outputs": [],
   "source": []
  }
 ],
 "metadata": {
  "kernelspec": {
   "display_name": "Python 3",
   "language": "python",
   "name": "python3"
  },
  "language_info": {
   "codemirror_mode": {
    "name": "ipython",
    "version": 3
   },
   "file_extension": ".py",
   "mimetype": "text/x-python",
   "name": "python",
   "nbconvert_exporter": "python",
   "pygments_lexer": "ipython3",
   "version": "3.7.6"
  }
 },
 "nbformat": 4,
 "nbformat_minor": 4
}
